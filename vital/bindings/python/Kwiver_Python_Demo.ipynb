{
 "cells": [
  {
   "cell_type": "markdown",
   "metadata": {
    "slideshow": {
     "slide_type": "slide"
    }
   },
   "source": [
    "# Introduction\n",
    "Vital now supports an initial Python interface via a C interface library. \n",
    "\n",
    "This iPython notebook intends to introduce this interface and provide a simple demonstration of its use and capability in its current state."
   ]
  },
  {
   "cell_type": "markdown",
   "metadata": {
    "slideshow": {
     "slide_type": "notes"
    }
   },
   "source": [
    "As this is currently still in a proof-of-concept phase, only a subset of Vital data structures and algorithms are available via the Python interface, and yet also limited in functionality within Python (e.g. only simple data accessors and manipuators are available."
   ]
  },
  {
   "cell_type": "markdown",
   "metadata": {
    "slideshow": {
     "slide_type": "slide"
    }
   },
   "source": [
    "## Setting up the environment\n",
    "In order to access and use the Vital python interface:\n",
    "* When configuring Vital CMake, additionally enable `VITAL_ENABLE_C_LIB` and `VITAL_ENABLE_PYTHON`\n",
    "* C interface library must have been built shared"
   ]
  },
  {
   "cell_type": "markdown",
   "metadata": {
    "slideshow": {
     "slide_type": "subslide"
    }
   },
   "source": [
    "Before interacting with the Vital python bindings, the Vital common setup script should be sourced. This is located in either the build or installation directory, which ever is relevant.\n",
    "\n",
    "When working with the bindings while in the source tree, a setup script may be sourced in\n",
    "\n",
    "    <SOURCE>/vital/bindings/python/setup_vital_python.sh\n",
    "\n",
    "This simply adds that containing directory to the PYTHON_PATH.\n",
    "    \n",
    "A Windows equivalent batch script will be provided in the future."
   ]
  },
  {
   "cell_type": "markdown",
   "metadata": {
    "slideshow": {
     "slide_type": "slide"
    }
   },
   "source": [
    "### Unit Tests\n",
    "Tests for the python interface are available in \n",
    "\n",
    "    <SOURCE>/vital/bindings/python/vital/tests/\n",
    "    \n",
    "and require the `nose` python package. To run:\n",
    "\n",
    "    $ nosetests ./vital/python/vital/tests"
   ]
  },
  {
   "cell_type": "markdown",
   "metadata": {
    "slideshow": {
     "slide_type": "slide"
    }
   },
   "source": [
    "## Using the Vital Python Interface\n",
    "The Vital Python interface is very similar to the C++ interface, with a slight difference in how algorithms are treated. All together, the Vital Python module primarily consists of a collection of data structures and a collection of algorithms types."
   ]
  },
  {
   "cell_type": "markdown",
   "metadata": {
    "slideshow": {
     "slide_type": "subslide"
    }
   },
   "source": [
    "### Importing Vital\n",
    "Once the environment is setup Vital is imported under the name `vital`"
   ]
  },
  {
   "cell_type": "code",
   "execution_count": null,
   "metadata": {
    "collapsed": false,
    "slideshow": {
     "slide_type": "-"
    }
   },
   "outputs": [],
   "source": [
    "# Importing Vital Python module\n",
    "import vital\n",
    "print vital"
   ]
  },
  {
   "cell_type": "markdown",
   "metadata": {
    "slideshow": {
     "slide_type": "slide"
    }
   },
   "source": [
    "### Data structures\n",
    "The data structures provided in the Python interface are intended to provide the same functions as their C++ counter parts but maintain pythonic design and interaction. Most data structures are importable, for convenience, in the root vital module."
   ]
  },
  {
   "cell_type": "markdown",
   "metadata": {
    "slideshow": {
     "slide_type": "notes"
    }
   },
   "source": [
    "**NOTE:** Currently, the only data structure that is 100% implemented (compared to the source data structure in C++) is the config_block structue (the VitalConfigBlock class in Python). Other data structures in the Python interface are only partially implemented in support of the currently implemented algorithms."
   ]
  },
  {
   "cell_type": "markdown",
   "metadata": {
    "slideshow": {
     "slide_type": "subslide"
    }
   },
   "source": [
    "Currently implemented data structures (in whole or part):\n",
    "* algorithm_plugin_manager\n",
    "* camera\n",
    "* camera_map\n",
    "* config_block (complete interface)\n",
    "* image\n",
    "* image_container\n",
    "* track\n",
    "* track_set"
   ]
  },
  {
   "cell_type": "markdown",
   "metadata": {
    "slideshow": {
     "slide_type": "subslide"
    }
   },
   "source": [
    "#### Example: Using the ConfigBlock"
   ]
  },
  {
   "cell_type": "code",
   "execution_count": null,
   "metadata": {
    "collapsed": false,
    "slideshow": {
     "slide_type": "-"
    }
   },
   "outputs": [],
   "source": [
    "# The config block structure\n",
    "from vital import ConfigBlock\n",
    "\n",
    "# Creating an empyty config block:\n",
    "cb = ConfigBlock(\"SomeNameNotRequired\") \n",
    "print \"empty ConfigBlock keys\",  cb.available_keys()  # an empty list\n",
    "\n",
    "cb.set_value('foobar', 'true')\n",
    "print \"updated ConfigBlock keys\", cb.available_keys()     # Now has one element, 'foobar'\n",
    "print \"value of 'foobar':\", cb.get_value('foobar')  # Get string value\n",
    "# This happens to be a valid boolean string, so we can get it as a boolean value, too\n",
    "if cb.get_value_bool('foobar'):\n",
    "    print \"foobar is on (%s)\" % cb.get_value_bool('foobar')\n",
    "else:\n",
    "    print \"foobar is off (%s)\" % cb.get_value_bool('foobar')"
   ]
  },
  {
   "cell_type": "markdown",
   "metadata": {
    "slideshow": {
     "slide_type": "slide"
    }
   },
   "source": [
    "### Error Handling\n",
    "The C interface implements an error handle structure, that many functions take in and set, in case an exception is thrown in the C++ code. When an exception is detected, a non-zero error code is set. The Python interface uses these handles to propagate any errors that occur in the C/C++ code (aside from unavoidable things like segfaults) as raised exceptions in Python.\n",
    "\n",
    "While there is a catch-all return code and Python exception class for generic errors, specific Python exception classes may be associated to specific return codes on a per-function basis for more fine-grained exception handling."
   ]
  },
  {
   "cell_type": "markdown",
   "metadata": {
    "slideshow": {
     "slide_type": "subslide"
    }
   },
   "source": [
    "#### Example: C++ exceptions translated to Python\n",
    "Config blocks may be read from file. If constructed from a file that doesn't exist, the C++ interface would throw an exception. This is also the case in the Python interface due to automatic error propagation, which happens to be a specific exception class due to the Python implementation knowing that the C interface will return different error codes for specific errors."
   ]
  },
  {
   "cell_type": "code",
   "execution_count": null,
   "metadata": {
    "collapsed": false,
    "slideshow": {
     "slide_type": "-"
    }
   },
   "outputs": [],
   "source": [
    "from vital import ConfigBlock\n",
    "from vital.exceptions.config_block_io import VitalConfigBlockIoFileNotFoundException\n",
    "try:\n",
    "    cb = ConfigBlock.from_file(\"/This/is/probably/not/a/file/on/your/disk.lalalalala\")\n",
    "except VitalConfigBlockIoFileNotFoundException as err:\n",
    "    print \"Exception caught:\", err"
   ]
  },
  {
   "cell_type": "markdown",
   "metadata": {
    "slideshow": {
     "slide_type": "subslide"
    }
   },
   "source": [
    "Other functions may only throw the generic base VITAL Python exception due to a current lack of implementation on the Python side, or the C interface does not yet return fine-grained error codes."
   ]
  },
  {
   "cell_type": "code",
   "execution_count": null,
   "metadata": {
    "collapsed": false,
    "slideshow": {
     "slide_type": "-"
    }
   },
   "outputs": [],
   "source": [
    "from vital.types import TrackSet\n",
    "from vital.exceptions.base import VitalBaseException\n",
    "# An empty track set\n",
    "ts = TrackSet()\n",
    "try:\n",
    "    ts.write_tracks_file(\"not_enough_tracks.txt\")\n",
    "except VitalBaseException as err:\n",
    "    print \"Exception caught:\", err"
   ]
  },
  {
   "cell_type": "markdown",
   "metadata": {
    "slideshow": {
     "slide_type": "slide"
    }
   },
   "source": [
    "### Plugin Management\n",
    "Just as in C++, we need to load the dynamic plugins before we can instantiate abstract algorithms with concrete instances. In Python this is done via the `vital.apm` module. In order for plugins to be picked up, the environment variable ``KWIVER_PLUGIN_PATH`` should be set to a colon separated sequence of directories to look in.\n",
    "\n",
    "In the below example, we set the path to point to a build of MAP-Tk's built plugin libraries."
   ]
  },
  {
   "cell_type": "code",
   "execution_count": null,
   "metadata": {
    "collapsed": false,
    "slideshow": {
     "slide_type": "subslide"
    }
   },
   "outputs": [],
   "source": [
    "import os\n",
    "from vital import apm\n",
    "\n",
    "# os.environ['KWIVER_PLUGIN_PATH'] = '/home/purg/dev/maptk/build-dev_ocv_3.x/lib/maptk'\n",
    "# OR\n",
    "apm.add_search_path( '/home/purg/dev/maptk/build-dev_ocv_3.x/lib/maptk' )\n",
    "\n",
    "# Nothing registered initially:\n",
    "print \"Initially registered modlues:\", apm.registered_module_names()\n",
    "\n",
    "# Register an invalid specific module:\n",
    "apm.register_plugins(\"vital_core\")\n",
    "print \"Single module registration:\", apm.registered_module_names()\n",
    "\n",
    "# Register a valid specific module:\n",
    "apm.register_plugins(\"maptk_core_plugin\")\n",
    "print \"Single module registration:\", apm.registered_module_names()\n",
    "\n",
    "# Register all available modules (recommended, thread-safe):\n",
    "print \"Reg all once:\", apm.register_plugins_once()\n",
    "print \"All available modules:\", apm.registered_module_names()"
   ]
  },
  {
   "cell_type": "markdown",
   "metadata": {
    "slideshow": {
     "slide_type": "notes"
    }
   },
   "source": [
    "**NOTE:** It is possible to compile the VITAL system statically, but the C interface libraray dynamically. In this case, dynamic plugins are not supported. It is still required to call `VitalAlgorithmPluginManager.register_plugins` to register available algorithm implementations, however the system will only register those implementations that have been baked into the libraries at compile time. Be aware that in this case no modules will be reported as registered via the `\n",
    "VitalAlgorithmPluginManager.registered_module_names()` method even when algorithm implementations are actually registered."
   ]
  },
  {
   "cell_type": "markdown",
   "metadata": {
    "slideshow": {
     "slide_type": "slide"
    }
   },
   "source": [
    "### Algorithms\n",
    "In the C++ interface, abstract algorithms are defined, but need to be instantiated with concrete derived algorithms provided by the plugins. Static member functions on abstract base class for each algorithm can list the loaded algorithm implementations by name and create an instance of any implementaiton by string name.\n",
    "\n",
    "In the Python interface, each algorithm class represents one of the C++ declared algorithm definition types. They act like a shared pointer would in the C++ interface."
   ]
  },
  {
   "cell_type": "markdown",
   "metadata": {
    "slideshow": {
     "slide_type": "slide"
    }
   },
   "source": [
    "#### Undefined Algorithm Instances\n",
    "All algorithm instances must be named (a configuration requirement) and can be initially created with an undefined implementation type, or with a specific implementation. Valid implementation names (types) are determined by what plugins are loaded at the time of instance construction.\n",
    "\n",
    "When undefined, a call to the `impl_name()` instance method returns None, and calls to implementation methods raise an exception stating that we cannot operate on a null pointer."
   ]
  },
  {
   "cell_type": "code",
   "execution_count": null,
   "metadata": {
    "collapsed": false,
    "slideshow": {
     "slide_type": "subslide"
    }
   },
   "outputs": [],
   "source": [
    "from vital.algo import ImageIo\n",
    "from vital.exceptions.base import VitalBaseException\n",
    "iio = ImageIo('algo_name')\n",
    "print \"iio implementation name:\", iio.impl_name()\n",
    "try:\n",
    "    iio.load('foo.jpg')\n",
    "except VitalBaseException as err:\n",
    "    print err"
   ]
  },
  {
   "cell_type": "markdown",
   "metadata": {
    "slideshow": {
     "slide_type": "slide"
    }
   },
   "source": [
    "#### Instantiating Algorithm Implementations\n",
    "When using algorithm instances interactively, available implementations can be viewed via the `registered_names()` class method."
   ]
  },
  {
   "cell_type": "code",
   "execution_count": null,
   "metadata": {
    "collapsed": false,
    "slideshow": {
     "slide_type": "-"
    }
   },
   "outputs": [],
   "source": [
    "ImageIo.registered_names()"
   ]
  },
  {
   "cell_type": "markdown",
   "metadata": {
    "slideshow": {
     "slide_type": "subslide"
    }
   },
   "source": [
    "If a specific implementation is known, it may be initialized via the `\n",
    "create(...)` class method, or by VitalConfigBlock configuration."
   ]
  },
  {
   "cell_type": "code",
   "execution_count": null,
   "metadata": {
    "collapsed": false,
    "slideshow": {
     "slide_type": "-"
    }
   },
   "outputs": [],
   "source": [
    "# Directly creating a new algorithm via implementation name\n",
    "iio_ocv = ImageIo.create(\"iio_ocv\", \"ocv\")\n",
    "print \"Created Implementation type:\", iio_ocv.impl_name()"
   ]
  },
  {
   "cell_type": "markdown",
   "metadata": {
    "slideshow": {
     "slide_type": "slide"
    }
   },
   "source": [
    "#### Configuring an Algorithm via ConfigBlock"
   ]
  },
  {
   "cell_type": "code",
   "execution_count": null,
   "metadata": {
    "collapsed": false,
    "slideshow": {
     "slide_type": "-"
    }
   },
   "outputs": [],
   "source": [
    "iio = ImageIo('iio') # and unconfigured image_io algorithm\n",
    "cb = iio.get_config() # get the configuration\n",
    "# iio.impl_name() == None\n",
    "print cb.as_string()  # To see the current configuration"
   ]
  },
  {
   "cell_type": "code",
   "execution_count": null,
   "metadata": {
    "collapsed": false,
    "slideshow": {
     "slide_type": "-"
    }
   },
   "outputs": [],
   "source": [
    "cb.set_value('iio:type', 'ocv')\n",
    "iio.set_config(cb)\n",
    "print \"Using Image IO implementation:\", iio.impl_name()\n",
    "print iio.get_config().as_string()"
   ]
  },
  {
   "cell_type": "markdown",
   "metadata": {
    "slideshow": {
     "slide_type": "slide"
    }
   },
   "source": [
    "#### A More Interesting Configuration Example"
   ]
  },
  {
   "cell_type": "code",
   "execution_count": null,
   "metadata": {
    "collapsed": false
   },
   "outputs": [],
   "source": [
    "from vital.algo import TrackFeatures\n",
    "tracker = TrackFeatures.create(\"tracker\", \"core\")\n",
    "print tracker.get_config().as_string()"
   ]
  },
  {
   "cell_type": "code",
   "execution_count": null,
   "metadata": {
    "collapsed": false,
    "slideshow": {
     "slide_type": "subslide"
    }
   },
   "outputs": [],
   "source": [
    "cb = tracker.get_config()\n",
    "cb.set_value(\"tracker:core:descriptor_extractor:type\", \"ocv_SURF\")\n",
    "tracker.set_config(cb)\n",
    "print tracker.get_config().as_string()"
   ]
  },
  {
   "cell_type": "code",
   "execution_count": null,
   "metadata": {
    "collapsed": false,
    "slideshow": {
     "slide_type": "subslide"
    }
   },
   "outputs": [],
   "source": [
    "cb = tracker.get_config()\n",
    "surf_cb = cb.subblock_view(\"tracker:core:descriptor_extractor:ocv_SURF\")\n",
    "print \"Before:\"\n",
    "print surf_cb.as_string()\n",
    "print \"----------------\"\n",
    "surf_cb.set_value(\"upright\", True)\n",
    "surf_cb.set_value(\"hessian_threshold\", 750)\n",
    "print \"After:\"\n",
    "print surf_cb.as_string()\n",
    "print \"----------------\"\n",
    "tracker.set_config(cb)\n",
    "print tracker.get_config().as_string()"
   ]
  },
  {
   "cell_type": "markdown",
   "metadata": {
    "slideshow": {
     "slide_type": "slide"
    }
   },
   "source": [
    "## Future Work\n",
    "Going forward, the following should be achieved:\n",
    "* Finish interfacing remaining Vital data structures and structure APIs\n",
    "* Allow further access to underlying data, including using Numpy to represent data arrays and matricies.\n",
    "* Allow algorithm implementations in Python that are then generally usable within the Vital system via a Python algorithm plugin."
   ]
  }
 ],
 "metadata": {
  "celltoolbar": "Slideshow",
  "kernelspec": {
   "display_name": "Python 2",
   "language": "python",
   "name": "python2"
  },
  "language_info": {
   "codemirror_mode": {
    "name": "ipython",
    "version": 2
   },
   "file_extension": ".py",
   "mimetype": "text/x-python",
   "name": "python",
   "nbconvert_exporter": "python",
   "pygments_lexer": "ipython2",
   "version": "2.7.11"
  }
 },
 "nbformat": 4,
 "nbformat_minor": 0
}
